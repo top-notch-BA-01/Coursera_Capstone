{
 "cells": [
  {
   "cell_type": "code",
   "execution_count": 4,
   "metadata": {},
   "outputs": [
    {
     "data": {
      "text/markdown": [
       "# The Latte Line of Sydney\n",
       "## 1. Problem statement\n",
       "### What is the Latte Line\n",
       "Major cities around the world demonstrate a diversity in neighbourhoods in terms of lifestyle, income, social status and ethnic background of people, low- and high density areas, and so on.\n",
       "In developed countries neighbourhoods are usually mixed based on the above criteria: ideally there are no ghettoes and no exclusive upperclass areas, however, the difference between disctricts can be quite apparent.\n",
       "In case of Sydney people are talking about a 'latte line' which divides the city to 2 parts, the prosperous North-East and the less attractive South-West. \n",
       "As the 'latte line' name suggests, this distinction - while could have been established on hard statistical facts, such as property prices, average income, university addmission rate of high school students - is based on observed or assumed difference of life style.\n",
       "\n",
       "Can we support or debunk the 'latte line' theory with the help of data science?\n"
      ],
      "text/plain": [
       "<IPython.core.display.Markdown object>"
      ]
     },
     "metadata": {},
     "output_type": "display_data"
    }
   ],
   "source": [
    "%%markdown\n",
    "# The Latte Line of Sydney\n",
    "## 1. Problem statement\n",
    "### What is the Latte Line\n",
    "Major cities around the world demonstrate a diversity in neighbourhoods in terms of lifestyle, income, social status and ethnic background of people, low- and high density areas, and so on.\n",
    "In developed countries neighbourhoods are usually mixed based on the above criteria: ideally there are no ghettoes and no exclusive upperclass areas, however, the difference between disctricts can be quite apparent.\n",
    "In case of Sydney people are talking about a 'latte line' which divides the city to 2 parts, the prosperous North-East and the less attractive South-West. \n",
    "As the 'latte line' name suggests, this distinction - while could have been established on hard statistical facts, such as property prices, average income, university addmission rate of high school students - is based on observed or assumed difference of life style.\n",
    "\n",
    "Can we support or debunk the 'latte line' theory with the help of data science?"
   ]
  },
  {
   "cell_type": "code",
   "execution_count": 5,
   "metadata": {},
   "outputs": [
    {
     "data": {
      "text/markdown": [
       "## 2. Use of data to evaluate the 'latte line'\n",
       "The following data sets would come handy:\n",
       "1. A list of neighborhoods of Sydney\n",
       "2. Population size of neighbourhoods\n",
       "3. Foursquare API with venues\n",
       "\n",
       "For practical reasons the list of neighborhoods will be taken from the Australian Bureau of Statistics, since we can get population size (number of residents) at the same granularity.\n",
       "Neighbourhoods are going to be assigned with their lat/log coordinates.\n",
       "Neighbourhoods will be labeled on which side they are of the latte line. For the geographical identification of the latte line we use a report of the Australian national news agency, abc.com.au:\n",
       "https://www.abc.net.au/news/2019-12-17/sydneys-latte-line-divides-job-and-housing-opportunities/11803706\n",
       "\n",
       "Foursquare API will be used to fetch venues for the analysed geographical areas. Since in this particular case life style is the subject of analysis the number of venues will be normalised: count/10000 residents.\n",
       "\n",
       "The goal of the analysis is\n",
       "1. building a model to predict if a neighbourhood based on the life style represented by venues belongs to the up or down side of the latte line with at least 75% accuracy\n",
       "2. perform hierarchical clustering based on lifestyle represented by venues to see if the top node covers the latte lie with at least 75% accuracy\n",
       "\n",
       "Setting the accuracy treshold is arbitrary. While we cannot expect foursquare data to make a deinite distinction between latte/non-latte regions, if it is closer to 50% than 100% we may question whether the latte line model reflect a difference in life style.\n"
      ],
      "text/plain": [
       "<IPython.core.display.Markdown object>"
      ]
     },
     "metadata": {},
     "output_type": "display_data"
    }
   ],
   "source": [
    "%%markdown\n",
    "## 2. Use of data to evaluate the 'latte line'\n",
    "The following data sets would come handy:\n",
    "1. A list of neighborhoods of Sydney\n",
    "2. Population size of neighbourhoods\n",
    "3. Foursquare API with venues\n",
    "\n",
    "For practical reasons the list of neighborhoods will be taken from the Australian Bureau of Statistics, since we can get population size (number of residents) at the same granularity.\n",
    "Neighbourhoods are going to be assigned with their lat/log coordinates.\n",
    "Neighbourhoods will be labeled on which side they are of the latte line. For the geographical identification of the latte line we use a report of the Australian national news agency, abc.com.au:\n",
    "https://www.abc.net.au/news/2019-12-17/sydneys-latte-line-divides-job-and-housing-opportunities/11803706\n",
    "\n",
    "Foursquare API will be used to fetch venues for the analysed geographical areas. Since in this particular case life style is the subject of analysis the number of venues will be normalised: count/10000 residents.\n",
    "\n",
    "The goal of the analysis is\n",
    "1. building a model to predict if a neighbourhood based on the life style represented by venues belongs to the up or down side of the latte line with at least 75% accuracy\n",
    "2. perform hierarchical clustering based on lifestyle represented by venues to see if the top node covers the latte lie with at least 75% accuracy\n",
    "\n",
    "Setting the accuracy treshold is arbitrary. While we cannot expect foursquare data to make a deinite distinction between latte/non-latte regions, if it is closer to 50% than 100% we may question whether the latte line model reflect a difference in life style."
   ]
  },
  {
   "cell_type": "code",
   "execution_count": null,
   "metadata": {},
   "outputs": [],
   "source": []
  }
 ],
 "metadata": {
  "kernelspec": {
   "display_name": "Python 3.6",
   "language": "python",
   "name": "python3"
  },
  "language_info": {
   "codemirror_mode": {
    "name": "ipython",
    "version": 3
   },
   "file_extension": ".py",
   "mimetype": "text/x-python",
   "name": "python",
   "nbconvert_exporter": "python",
   "pygments_lexer": "ipython3",
   "version": "3.6.9"
  }
 },
 "nbformat": 4,
 "nbformat_minor": 1
}
